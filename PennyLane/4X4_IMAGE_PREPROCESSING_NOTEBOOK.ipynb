{
 "cells": [
  {
   "cell_type": "code",
   "execution_count": 1,
   "metadata": {},
   "outputs": [],
   "source": [
    "import pennylane as qml\n",
    "import tensorflow as tf\n",
    "import matplotlib.pyplot as plt\n",
    "from pennylane import numpy as np\n",
    "from pennylane.templates import RandomLayers\n",
    "from tensorflow import keras"
   ]
  },
  {
   "cell_type": "code",
   "execution_count": 2,
   "metadata": {},
   "outputs": [],
   "source": [
    "import logging\n",
    "import time\n",
    "from functools import wraps\n",
    "\n",
    "logging.basicConfig(filename='4x4_preprocessing_training.txt', level=logging.INFO, \n",
    "                    format='%(asctime)s - %(message)s')\n",
    "\n",
    "# Filter out PennyLane's DEBUG messages\n",
    "logging.getLogger(\"pennylane\").setLevel(logging.WARNING)\n",
    "\n",
    "def log_execution_time(func):\n",
    "    @wraps(func)\n",
    "    def wrapper(*args, **kwargs):\n",
    "        start_time = time.time()\n",
    "        logging.info(f\"Function '{func.__name__}' started\")\n",
    "\n",
    "        result = func(*args, **kwargs) \n",
    "\n",
    "        end_time = time.time()\n",
    "        execution_time = end_time - start_time\n",
    "        logging.info(f\"Function '{func.__name__}' finished in {execution_time:.2f} seconds\")\n",
    "        return result\n",
    "    return wrapper"
   ]
  },
  {
   "cell_type": "code",
   "execution_count": 4,
   "metadata": {},
   "outputs": [],
   "source": [
    "n_epochs = 30 \n",
    "n_layers = 1\n",
    "n_train = 1\n",
    "n_test = 0\n",
    "\n",
    "SAVE_PATH = \"dataset/quanvolution/\" \n",
    "PREPROCESS = True\n",
    "np.random.seed(0)\n",
    "tf.random.set_seed(0)"
   ]
  },
  {
   "cell_type": "code",
   "execution_count": 5,
   "metadata": {},
   "outputs": [],
   "source": [
    "cifar_dataset = keras.datasets.cifar10\n",
    "(train_images, train_labels), (test_images, test_labels) = cifar_dataset.load_data()\n",
    "\n",
    "train_images = train_images[:n_train]\n",
    "train_labels = train_labels[:n_train]\n",
    "test_images = test_images[:n_test]\n",
    "test_labels= test_labels[:n_test]\n",
    "\n",
    "# Convert RGB images to grayscale\n",
    "def rgb_to_grayscale(images):\n",
    "    return np.dot(images[...,:3], [0.299, 0.587, 0.114])\n",
    "\n",
    "train_images_gray = rgb_to_grayscale(train_images)\n",
    "test_images_gray = rgb_to_grayscale(test_images)\n",
    "\n",
    "train_images_gray = train_images_gray / 255\n",
    "test_images_gray = test_images_gray / 255\n",
    "\n",
    "train_images_gray = np.array(train_images_gray[..., tf.newaxis], requires_grad=False)\n",
    "test_images_gray = np.array(test_images_gray[..., tf.newaxis], requires_grad=False)\n"
   ]
  },
  {
   "cell_type": "code",
   "execution_count": null,
   "metadata": {},
   "outputs": [],
   "source": [
    "dev = qml.device(\"default.qubit\", wires=20)\n",
    "rand_params = np.random.uniform(high=2 * np.pi, size=(n_layers, 16))\n",
    "\n",
    "@qml.qnode(dev)\n",
    "def circuit(phi):\n",
    "    for i in range(16):\n",
    "        qml.RY(np.pi * phi[i], wires=i)\n",
    "\n",
    "    RandomLayers(rand_params, wires=list(range(16)))\n",
    "\n",
    "    for i in range(0, 16, 4):\n",
    "        qml.CNOT(wires=[i, i+1])\n",
    "        qml.CNOT(wires=[i+1, i+2])\n",
    "        qml.CNOT(wires=[i+2, i+3])\n",
    "        qml.SWAP(wires=[i+3, 16 + i//4])\n",
    "\n",
    "    return [qml.expval(qml.PauliZ(i)) for i in range(16, 20)]\n"
   ]
  },
  {
   "cell_type": "code",
   "execution_count": 8,
   "metadata": {},
   "outputs": [],
   "source": [
    "@log_execution_time\n",
    "def quanv(image):\n",
    "    out = np.zeros((8, 8, 4))\n",
    "\n",
    "    for i in range(0, 32, 4):\n",
    "        for j in range(0, 32, 4):\n",
    "            q_results = circuit(\n",
    "                [\n",
    "                    image[i, j, 0],\n",
    "                    image[i, j+1, 0],\n",
    "                    image[i, j+2, 0],\n",
    "                    image[i, j+3, 0],\n",
    "                    image[i+1, j, 0],\n",
    "                    image[i+1, j+1, 0],\n",
    "                    image[i+1, j+2, 0],\n",
    "                    image[i+1, j+3, 0],\n",
    "                    image[i+2, j, 0],\n",
    "                    image[i+2, j+1, 0],\n",
    "                    image[i+2, j+2, 0],\n",
    "                    image[i+2, j+3, 0],\n",
    "                    image[i+3, j, 0],\n",
    "                    image[i+3, j+1, 0],\n",
    "                    image[i+3, j+2, 0],\n",
    "                    image[i+3, j+3, 0]\n",
    "                ]\n",
    "            )\n",
    "\n",
    "            for c in range(4):\n",
    "                out[i // 4, j // 4, c] = q_results[c]\n",
    "    \n",
    "    return out"
   ]
  },
  {
   "cell_type": "code",
   "execution_count": null,
   "metadata": {},
   "outputs": [],
   "source": [
    "if PREPROCESS == True:\n",
    "    q_train_images = []\n",
    "\n",
    "    print(\"Quantum pre-processing of train images:\")\n",
    "    for idx, img in enumerate(train_images_gray):\n",
    "        print(\"{}/{}\".format(idx + 1, n_train), end='\\r')\n",
    "        q_train_images.append(quanv(img))\n",
    "\n",
    "    q_train_images = np.asarray(q_train_images)\n",
    "\n",
    "    q_test_images = []\n",
    "    print(\"\\nQuantum pre-processing of test images:\")\n",
    "    for idx, img in enumerate(test_images_gray):\n",
    "        print(\"{}/{}        \".format(idx + 1, n_test), end=\"\\r\")\n",
    "        q_test_images.append(quanv(img))\n",
    "    \n",
    "    q_test_images = np.asarray(q_test_images)\n",
    "\n",
    "    np.save(SAVE_PATH + \"cifar_train.npy\", q_train_images)\n",
    "    np.save(SAVE_PATH + \"cifat_test.npy\", q_test_images)"
   ]
  }
 ],
 "metadata": {
  "kernelspec": {
   "display_name": "tf_jupyter",
   "language": "python",
   "name": "python3"
  },
  "language_info": {
   "codemirror_mode": {
    "name": "ipython",
    "version": 3
   },
   "file_extension": ".py",
   "mimetype": "text/x-python",
   "name": "python",
   "nbconvert_exporter": "python",
   "pygments_lexer": "ipython3",
   "version": "3.9.16"
  }
 },
 "nbformat": 4,
 "nbformat_minor": 2
}
