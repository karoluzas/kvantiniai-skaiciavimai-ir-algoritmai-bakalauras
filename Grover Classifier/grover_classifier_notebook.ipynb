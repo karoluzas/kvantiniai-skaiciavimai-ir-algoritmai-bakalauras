{
 "cells": [
  {
   "cell_type": "markdown",
   "metadata": {},
   "source": [
    "## Imports"
   ]
  },
  {
   "cell_type": "code",
   "execution_count": 2,
   "metadata": {},
   "outputs": [],
   "source": [
    "import qiskit\n",
    "import numpy as np\n",
    "import tensorflow as tf\n",
    "import matplotlib.pyplot as plt\n",
    "import scipy\n",
    "import random\n",
    "import math\n",
    "\n",
    "from qiskit.circuit.library import GroverOperator, MCMT, ZGate\n",
    "from qiskit.circuit import QuantumCircuit\n",
    "from qiskit.quantum_info import Operator\n",
    "from qiskit.primitives import Sampler\n",
    "\n",
    "from scipy.spatial.distance import jensenshannon\n",
    "from pprint import pprint"
   ]
  },
  {
   "cell_type": "markdown",
   "metadata": {},
   "source": [
    "## Loading in dataset\n",
    "\n",
    "Loading in MNIST dataset"
   ]
  },
  {
   "cell_type": "code",
   "execution_count": 3,
   "metadata": {},
   "outputs": [
    {
     "name": "stdout",
     "output_type": "stream",
     "text": [
      "Class 0 has 5923 images.\n",
      "Class 1 has 6742 images.\n",
      "Class 2 has 5958 images.\n",
      "Class 3 has 6131 images.\n",
      "Class 4 has 5842 images.\n",
      "Class 5 has 5421 images.\n",
      "Class 6 has 5918 images.\n",
      "Class 7 has 6265 images.\n",
      "Class 8 has 5851 images.\n",
      "Class 9 has 5949 images.\n"
     ]
    }
   ],
   "source": [
    "mnist_dataset = tf.keras.datasets.mnist\n",
    "(train_images, train_labels), (test_images, test_labels) = mnist_dataset.load_data()\n",
    "\n",
    "class_arrays = [[] for _ in range(10)]\n",
    "\n",
    "for image, label in zip(train_images, train_labels):\n",
    "    class_arrays[label].append(image)\n",
    "\n",
    "class_arrays = [tf.convert_to_tensor(images) for images in class_arrays]\n",
    "\n",
    "for i, class_array in enumerate(class_arrays):\n",
    "    print(f\"Class {i} has {class_array.shape[0]} images.\")"
   ]
  },
  {
   "cell_type": "markdown",
   "metadata": {},
   "source": [
    "## Processing data\n",
    "\n",
    "In this section we process all the classes to find out characteristic pixels based to that class.\n",
    "The approach:\n",
    "1. Convert the data into 1 and 0 values.\n",
    "    - If a pixel value is <= 0.25, the pixel value is turned to 0\n",
    "    - If a pixel value is >= 0.75, the pixel value is turned to 1\n",
    "    - For every other case: take neighboring pixels, sum them and take the average. Based on the average determine if it will be 0 or 1.\n",
    "2. Sum all the pixels and find the most repeating pixels. Top 5 pixels will be chosen as characteristic for that image.\n",
    "3. Turn top 5 pixel indices into binary for grover's algorithm.\n",
    "4. Because all pixels are top pixels, we also append at the end of the binary number a '1'. Giving us in the end a 9 bit binary value."
   ]
  },
  {
   "cell_type": "code",
   "execution_count": 4,
   "metadata": {},
   "outputs": [],
   "source": [
    "def process_class(class_array):\n",
    "    new_array = []\n",
    "    for image in class_array:\n",
    "        image = image.numpy() / 255.0\n",
    "\n",
    "        image = scipy.ndimage.zoom(image, (0.5, 0.5))\n",
    "\n",
    "        image = np.where(image > 0.75, 1, image)\n",
    "        image = np.where(image < 0.25, 0, image)\n",
    "\n",
    "        padded_image = np.pad(image, pad_width=1, mode='constant', constant_values=0)\n",
    "        \n",
    "        neighbors_sum = (\n",
    "            padded_image[:-2, :-2] + padded_image[1:-1, :-2] + padded_image[2:, :-2] +\n",
    "            padded_image[:-2, 1:-1] + padded_image[1:-1, 1:-1] + padded_image[2:, 1:-1] +\n",
    "            padded_image[:-2, 2:] + padded_image[1:-1, 2:] + padded_image[2:, 2:]\n",
    "        )\n",
    "\n",
    "        average = neighbors_sum / 9\n",
    "\n",
    "        mask = (image <= 0.75) & (image >= 0.25)\n",
    "\n",
    "        image = np.where((image <= 0.75) & (image >= 0.25), 0, image)\n",
    "\n",
    "        filtered_array = np.where(mask, average, 0)\n",
    "\n",
    "        filtered_array = np.where(filtered_array > 0.6, 1, filtered_array)\n",
    "        filtered_array = np.where(filtered_array <= 0.6, 0, filtered_array)\n",
    "\n",
    "\n",
    "        image = np.where(filtered_array == 1, 1, image)\n",
    "\n",
    "        new_array.append(image)\n",
    "\n",
    "    return new_array\n",
    "\n",
    "processed_images = [\n",
    "    process_class(class_arrays[0]),\n",
    "    process_class(class_arrays[1]),\n",
    "    process_class(class_arrays[2]),\n",
    "    process_class(class_arrays[3]),\n",
    "    process_class(class_arrays[4]),\n",
    "    process_class(class_arrays[5]),\n",
    "    process_class(class_arrays[6]),\n",
    "    process_class(class_arrays[7]),\n",
    "    process_class(class_arrays[8]),\n",
    "    process_class(class_arrays[9]),\n",
    "]\n"
   ]
  },
  {
   "cell_type": "code",
   "execution_count": 5,
   "metadata": {},
   "outputs": [
    {
     "data": {
      "image/png": "[encoded data removed]",
      "text/plain": [
       "<Figure size 1500x1500 with 100 Axes>"
      ]
     },
     "metadata": {},
     "output_type": "display_data"
    }
   ],
   "source": [
    "fig, axes = plt.subplots(10, 10, figsize=(15, 15))\n",
    "\n",
    "for i in range(10):\n",
    "    for j in range(10):\n",
    "        ax = axes[i, j]\n",
    "        ax.imshow(processed_images[i][j], cmap='gray')\n",
    "        ax.axis('off')\n",
    "\n",
    "plt.subplots_adjust(wspace=0.1, hspace=0.1)\n",
    "plt.show()"
   ]
  },
  {
   "cell_type": "markdown",
   "metadata": {},
   "source": [
    "## Converting to binary\n",
    "\n",
    "Converting each top pixel index to a 9 bit binary number"
   ]
  },
  {
   "cell_type": "code",
   "execution_count": 6,
   "metadata": {},
   "outputs": [
    {
     "name": "stdout",
     "output_type": "stream",
     "text": [
      "[[75, 130, 146, 62, 65, 147, 144, 49, 145, 50],\n",
      " [133, 146, 64, 63, 119, 132, 118, 77, 105, 91],\n",
      " [144, 130, 50, 49, 145, 133, 131, 118, 119, 132],\n",
      " [159, 148, 78, 92, 50, 160, 90, 48, 49, 91],\n",
      " [89, 104, 88, 92, 105, 103, 120, 102, 119, 106],\n",
      " [148, 147, 49, 50, 76, 62, 160, 75, 90, 89],\n",
      " [89, 118, 103, 133, 134, 117, 147, 132, 146, 131],\n",
      " [65, 133, 92, 61, 78, 79, 62, 106, 63, 64],\n",
      " [119, 90, 91, 92, 50, 49, 118, 160, 104, 105],\n",
      " [79, 63, 64, 119, 75, 120, 105, 62, 92, 106]]\n"
     ]
    }
   ],
   "source": [
    "top_pixels = []\n",
    "\n",
    "for images in processed_images:\n",
    "    summed_images = np.sum(images, axis=0)\n",
    "\n",
    "    flat_indices = np.argsort(summed_images, axis=None)[-10:]\n",
    "\n",
    "    top_pixels.append(flat_indices.tolist())\n",
    "\n",
    "pprint(top_pixels)"
   ]
  },
  {
   "cell_type": "code",
   "execution_count": 7,
   "metadata": {},
   "outputs": [
    {
     "name": "stdout",
     "output_type": "stream",
     "text": [
      "[['010010111',\n",
      "  '100000101',\n",
      "  '100100101',\n",
      "  '001111101',\n",
      "  '010000011',\n",
      "  '100100111',\n",
      "  '100100001',\n",
      "  '001100011',\n",
      "  '100100011',\n",
      "  '001100101'],\n",
      " ['100001011',\n",
      "  '100100101',\n",
      "  '010000001',\n",
      "  '001111111',\n",
      "  '011101111',\n",
      "  '100001001',\n",
      "  '011101101',\n",
      "  '010011011',\n",
      "  '011010011',\n",
      "  '010110111'],\n",
      " ['100100001',\n",
      "  '100000101',\n",
      "  '001100101',\n",
      "  '001100011',\n",
      "  '100100011',\n",
      "  '100001011',\n",
      "  '100000111',\n",
      "  '011101101',\n",
      "  '011101111',\n",
      "  '100001001'],\n",
      " ['100111111',\n",
      "  '100101001',\n",
      "  '010011101',\n",
      "  '010111001',\n",
      "  '001100101',\n",
      "  '101000001',\n",
      "  '010110101',\n",
      "  '001100001',\n",
      "  '001100011',\n",
      "  '010110111'],\n",
      " ['010110011',\n",
      "  '011010001',\n",
      "  '010110001',\n",
      "  '010111001',\n",
      "  '011010011',\n",
      "  '011001111',\n",
      "  '011110001',\n",
      "  '011001101',\n",
      "  '011101111',\n",
      "  '011010101'],\n",
      " ['100101001',\n",
      "  '100100111',\n",
      "  '001100011',\n",
      "  '001100101',\n",
      "  '010011001',\n",
      "  '001111101',\n",
      "  '101000001',\n",
      "  '010010111',\n",
      "  '010110101',\n",
      "  '010110011'],\n",
      " ['010110011',\n",
      "  '011101101',\n",
      "  '011001111',\n",
      "  '100001011',\n",
      "  '100001101',\n",
      "  '011101011',\n",
      "  '100100111',\n",
      "  '100001001',\n",
      "  '100100101',\n",
      "  '100000111'],\n",
      " ['010000011',\n",
      "  '100001011',\n",
      "  '010111001',\n",
      "  '001111011',\n",
      "  '010011101',\n",
      "  '010011111',\n",
      "  '001111101',\n",
      "  '011010101',\n",
      "  '001111111',\n",
      "  '010000001'],\n",
      " ['011101111',\n",
      "  '010110101',\n",
      "  '010110111',\n",
      "  '010111001',\n",
      "  '001100101',\n",
      "  '001100011',\n",
      "  '011101101',\n",
      "  '101000001',\n",
      "  '011010001',\n",
      "  '011010011'],\n",
      " ['010011111',\n",
      "  '001111111',\n",
      "  '010000001',\n",
      "  '011101111',\n",
      "  '010010111',\n",
      "  '011110001',\n",
      "  '011010011',\n",
      "  '001111101',\n",
      "  '010111001',\n",
      "  '011010101']]\n"
     ]
    }
   ],
   "source": [
    "binary_top_pixels = [[format(index, '08b') + '1' for index in sublist] for sublist in top_pixels]\n",
    "\n",
    "pprint(binary_top_pixels)"
   ]
  },
  {
   "cell_type": "markdown",
   "metadata": {},
   "source": [
    "## Grover's algorithm\n",
    "\n",
    "Now wew construct grovers algorithm. We create grover operators for each class."
   ]
  },
  {
   "cell_type": "code",
   "execution_count": 8,
   "metadata": {},
   "outputs": [],
   "source": [
    "def grover_oracle(binary_states):\n",
    "    if not isinstance(binary_states, list):\n",
    "        binary_states = [binary_states]\n",
    "\n",
    "    num_qubits = len(binary_states[0])\n",
    "\n",
    "    qc = QuantumCircuit(num_qubits)\n",
    "    for target in binary_states:\n",
    "        rev_target = target[::-1]\n",
    "        zero_inds = [ind for ind in range(num_qubits) if rev_target.startswith(\"0\", ind)]\n",
    "        if len(zero_inds)>0:\n",
    "            qc.x(zero_inds)\n",
    "            qc.compose(MCMT(ZGate(), num_qubits - 1, 1), inplace=True)\n",
    "            qc.x(zero_inds)\n",
    "        else:\n",
    "            qc.compose(MCMT(ZGate(), num_qubits - 1, 1), inplace=True)\n",
    "    return qc"
   ]
  },
  {
   "cell_type": "code",
   "execution_count": 9,
   "metadata": {},
   "outputs": [],
   "source": [
    "grover_oracles = []\n",
    "\n",
    "for states in binary_top_pixels:\n",
    "    oracle = grover_oracle(states)\n",
    "\n",
    "    grover_op = GroverOperator(oracle)\n",
    "    grover_oracles.append(grover_op)\n"
   ]
  },
  {
   "cell_type": "code",
   "execution_count": 10,
   "metadata": {},
   "outputs": [
    {
     "name": "stdout",
     "output_type": "stream",
     "text": [
      "5\n",
      "5\n",
      "5\n",
      "5\n",
      "5\n",
      "5\n",
      "5\n",
      "5\n",
      "5\n",
      "5\n"
     ]
    }
   ],
   "source": [
    "for grover_op in grover_oracles:\n",
    "    optimal_num_iterations = math.floor(\n",
    "        math.pi / 4 * math.sqrt(2**grover_op.num_qubits / 10)\n",
    "    )\n",
    "    print(optimal_num_iterations)"
   ]
  },
  {
   "cell_type": "markdown",
   "metadata": {},
   "source": [
    "## Trying it out\n",
    "\n",
    "Need to give image, that has been processed, go through each oracle with 5 pixels and find which operator returns best match.\n",
    "\n",
    "Here we are finding each distribution of all the classes of correct pixels."
   ]
  },
  {
   "cell_type": "code",
   "execution_count": null,
   "metadata": {},
   "outputs": [],
   "source": [
    "quasi_distributions = []\n",
    "\n",
    "for grover_op in grover_oracles:\n",
    "    U = Operator(oracle)\n",
    "\n",
    "    optimal_num_iterations = math.floor(\n",
    "        math.pi / 4 * math.sqrt(2**oracle.num_qubits / 10)\n",
    "    )\n",
    "\n",
    "    qc = QuantumCircuit(grover_op.num_qubits)\n",
    "    qc.h(range(grover_op.num_qubits))\n",
    "    qc.compose(grover_op.power(8), inplace=True)\n",
    "    qc.measure_all()\n",
    "\n",
    "    sampler = Sampler()\n",
    "\n",
    "    result = sampler.run(qc).result()\n",
    "    quasi_dists = result.quasi_dists\n",
    "\n",
    "    quasi_distributions.append(quasi_dists)"
   ]
  },
  {
   "cell_type": "markdown",
   "metadata": {},
   "source": [
    "## Ploting out the distributions\n",
    "\n",
    "Example of the probabilities oracle has returned. We can chec the indices with binary values that were fed to validate the results."
   ]
  },
  {
   "cell_type": "code",
   "execution_count": 11,
   "metadata": {},
   "outputs": [
    {
     "data": {
      "image/png": "[encoded data removed]",
      "text/plain": [
       "<Figure size 1000x500 with 1 Axes>"
      ]
     },
     "metadata": {},
     "output_type": "display_data"
    },
    {
     "name": "stdout",
     "output_type": "stream",
     "text": [
      "Filtered Significant Probabilities:\n",
      "State: 239, Probability: 0.0472583451446856\n",
      "State: 237, Probability: 0.0472583451446849\n",
      "State: 183, Probability: 0.0472583451446847\n",
      "State: 155, Probability: 0.0472583451446839\n",
      "State: 129, Probability: 0.0472583451446833\n",
      "State: 211, Probability: 0.0472583451446807\n",
      "State: 293, Probability: 0.0472583451446803\n",
      "State: 267, Probability: 0.0472583451446797\n",
      "State: 127, Probability: 0.0472583451446795\n",
      "State: 265, Probability: 0.0472583451446786\n"
     ]
    }
   ],
   "source": [
    "threshold = 0.04\n",
    "filtered_dist = {k: v for k, v in quasi_distributions[1][0].items() if v > threshold}\n",
    "\n",
    "filtered_dist = dict(sorted(filtered_dist.items(), key=lambda item: item[1], reverse=True)[:10])\n",
    "\n",
    "plt.figure(figsize=(10, 5))\n",
    "plt.bar(filtered_dist.keys(), filtered_dist.values(), color='blue', alpha=0.7)\n",
    "plt.xlabel('State')\n",
    "plt.ylabel('Quasi-probability')\n",
    "plt.title('Filtered Significant Probabilities')\n",
    "plt.show()\n",
    "\n",
    "print(\"Filtered Significant Probabilities:\")\n",
    "for state, prob in filtered_dist.items():\n",
    "    print(f\"State: {state}, Probability: {prob}\")"
   ]
  },
  {
   "cell_type": "markdown",
   "metadata": {},
   "source": [
    "## Classifying an image\n",
    "\n",
    "Let's take a random image from MNIST to figure out what class it is."
   ]
  },
  {
   "cell_type": "code",
   "execution_count": 13,
   "metadata": {},
   "outputs": [
    {
     "name": "stdout",
     "output_type": "stream",
     "text": [
      "Random processed image of class: 8, at position 1036.\n"
     ]
    },
    {
     "data": {
      "image/png": "[encoded data removed]",
      "text/plain": [
       "<Figure size 640x480 with 1 Axes>"
      ]
     },
     "metadata": {},
     "output_type": "display_data"
    }
   ],
   "source": [
    "random_class = random.randint(0, 9)\n",
    "random_indice = random.randint(1000, 5000)\n",
    "\n",
    "random_image = processed_images[random_class][random_indice]\n",
    "\n",
    "print(f\"Random processed image of class: {random_class}, at position {random_indice}.\")\n",
    "plt.imshow(random_image, cmap='gray')\n",
    "plt.show()"
   ]
  },
  {
   "cell_type": "markdown",
   "metadata": {},
   "source": [
    "We now want to go through each class pixel locations and compare results with the actuall distributions. Highest value will be deemed to be most accurate prediction.\n",
    "\n",
    "Firstly we take top pixels of each class. Based on the pixel value we apped either a '0' or a '1' to the binary value. "
   ]
  },
  {
   "cell_type": "code",
   "execution_count": 14,
   "metadata": {},
   "outputs": [
    {
     "name": "stdout",
     "output_type": "stream",
     "text": [
      "[['010010111',\n",
      "  '100000101',\n",
      "  '100100100',\n",
      "  '001111100',\n",
      "  '010000010',\n",
      "  '100100110',\n",
      "  '100100001',\n",
      "  '001100010',\n",
      "  '100100010',\n",
      "  '001100100'],\n",
      " ['100001010',\n",
      "  '100100100',\n",
      "  '010000000',\n",
      "  '001111110',\n",
      "  '011101110',\n",
      "  '100001000',\n",
      "  '011101100',\n",
      "  '010011010',\n",
      "  '011010011',\n",
      "  '010110111'],\n",
      " ['100100001',\n",
      "  '100000101',\n",
      "  '001100100',\n",
      "  '001100010',\n",
      "  '100100010',\n",
      "  '100001010',\n",
      "  '100000110',\n",
      "  '011101100',\n",
      "  '011101110',\n",
      "  '100001000'],\n",
      " ['100111111',\n",
      "  '100101001',\n",
      "  '010011100',\n",
      "  '010111001',\n",
      "  '001100100',\n",
      "  '101000001',\n",
      "  '010110101',\n",
      "  '001100001',\n",
      "  '001100010',\n",
      "  '010110111'],\n",
      " ['010110011',\n",
      "  '011010001',\n",
      "  '010110001',\n",
      "  '010111001',\n",
      "  '011010011',\n",
      "  '011001111',\n",
      "  '011110000',\n",
      "  '011001100',\n",
      "  '011101110',\n",
      "  '011010101'],\n",
      " ['100101001',\n",
      "  '100100110',\n",
      "  '001100010',\n",
      "  '001100100',\n",
      "  '010011000',\n",
      "  '001111100',\n",
      "  '101000001',\n",
      "  '010010111',\n",
      "  '010110101',\n",
      "  '010110011'],\n",
      " ['010110011',\n",
      "  '011101100',\n",
      "  '011001111',\n",
      "  '100001010',\n",
      "  '100001100',\n",
      "  '011101011',\n",
      "  '100100110',\n",
      "  '100001000',\n",
      "  '100100100',\n",
      "  '100000110'],\n",
      " ['010000010',\n",
      "  '100001010',\n",
      "  '010111001',\n",
      "  '001111011',\n",
      "  '010011100',\n",
      "  '010011110',\n",
      "  '001111100',\n",
      "  '011010101',\n",
      "  '001111110',\n",
      "  '010000000'],\n",
      " ['011101110',\n",
      "  '010110101',\n",
      "  '010110111',\n",
      "  '010111001',\n",
      "  '001100100',\n",
      "  '001100010',\n",
      "  '011101100',\n",
      "  '101000001',\n",
      "  '011010001',\n",
      "  '011010011'],\n",
      " ['010011110',\n",
      "  '001111110',\n",
      "  '010000000',\n",
      "  '011101110',\n",
      "  '010010111',\n",
      "  '011110000',\n",
      "  '011010011',\n",
      "  '001111100',\n",
      "  '010111001',\n",
      "  '011010101']]\n"
     ]
    }
   ],
   "source": [
    "flattened_image = [pixel for row in random_image for pixel in row]\n",
    "\n",
    "random_image_binary = [[format(index, '08b') for index in sublist] for sublist in top_pixels]\n",
    "random_image_binary_filtered = []\n",
    "\n",
    "for class_indices, class_binary in zip(top_pixels, random_image_binary):\n",
    "    temp = []\n",
    "    for indice, binary in zip(class_indices, class_binary):\n",
    "        binary = binary + str(int(flattened_image[indice]))\n",
    "        temp.append(binary)\n",
    "    random_image_binary_filtered.append(temp)\n",
    "pprint(random_image_binary_filtered)"
   ]
  },
  {
   "cell_type": "markdown",
   "metadata": {},
   "source": [
    "Now we create grover operators for each class and run distributions"
   ]
  },
  {
   "cell_type": "code",
   "execution_count": 15,
   "metadata": {},
   "outputs": [],
   "source": [
    "random_image_quasi_distributions = []\n",
    "random_image_grover_oracles = []\n",
    "\n",
    "for states in random_image_binary_filtered:\n",
    "    oracle = grover_oracle(states)\n",
    "\n",
    "    grover_op = GroverOperator(oracle)\n",
    "    random_image_grover_oracles.append(grover_op)\n",
    "\n",
    "\n",
    "for grover_op in random_image_grover_oracles:\n",
    "    optimal_num_iterations = math.floor(\n",
    "        math.pi / 4 * math.sqrt(2**oracle.num_qubits / 5)\n",
    "    )\n",
    "\n",
    "    qc = QuantumCircuit(grover_op.num_qubits)\n",
    "    qc.h(range(grover_op.num_qubits))\n",
    "    qc.compose(grover_op.power(8), inplace=True)\n",
    "    qc.measure_all()\n",
    "\n",
    "    sampler = Sampler()\n",
    "\n",
    "    result = sampler.run(qc).result()\n",
    "    quasi_dists = result.quasi_dists\n",
    "\n",
    "    random_image_quasi_distributions.append(quasi_dists)"
   ]
  },
  {
   "cell_type": "markdown",
   "metadata": {},
   "source": [
    "## Making the prediction\n",
    "\n",
    "Having both distributions, using Jensen-Shannon Divergence, we can check how much top pixels diverge from actual values. The lower the number - higher the chance of that class being correct one.\n",
    "\n",
    "- 0 value represents an identical match\n",
    "- 0.99 value represents that no values match\n",
    "\n",
    "Based on that we make a prediction."
   ]
  },
  {
   "cell_type": "code",
   "execution_count": 16,
   "metadata": {},
   "outputs": [
    {
     "name": "stdout",
     "output_type": "stream",
     "text": [
      "0 Jensen-Shannon Divergence: 0.5357711375185169\n",
      "1 Jensen-Shannon Divergence: 0.5727634383761238\n",
      "2 Jensen-Shannon Divergence: 0.5727634383761223\n",
      "3 Jensen-Shannon Divergence: 0.3507445418358881\n",
      "4 Jensen-Shannon Divergence: 0.3507445418358835\n",
      "5 Jensen-Shannon Divergence: 0.4528092564345166\n",
      "6 Jensen-Shannon Divergence: 0.5357711375185239\n",
      "7 Jensen-Shannon Divergence: 0.5357711375185213\n",
      "8 Jensen-Shannon Divergence: 0.4050049112914789\n",
      "9 Jensen-Shannon Divergence: 0.49602768799264346\n"
     ]
    }
   ],
   "source": [
    "for i in range(10):\n",
    "    real_distributions = quasi_distributions[i][0]\n",
    "    predicted_distributions = random_image_quasi_distributions[i][0]\n",
    "\n",
    "    # Convert dictionaries to numpy arrays\n",
    "    keys = sorted(real_distributions.keys())\n",
    "    p = np.array([real_distributions[key] for key in keys])\n",
    "    q = np.array([predicted_distributions[key] for key in keys])\n",
    "\n",
    "    # Compute Jensen-Shannon Divergence\n",
    "    js_divergence = jensenshannon(p, q, base=2)\n",
    "\n",
    "    print(f\"{i} Jensen-Shannon Divergence: {js_divergence}\")"
   ]
  },
  {
   "cell_type": "markdown",
   "metadata": {},
   "source": [
    "## Prediction loop"
   ]
  },
  {
   "cell_type": "code",
   "execution_count": 44,
   "metadata": {},
   "outputs": [],
   "source": [
    "def get_random_image():\n",
    "    random_class = random.randint(0, 9)\n",
    "    random_indice = random.randint(1000, 5000)\n",
    "\n",
    "    random_image = processed_images[random_class][random_indice]\n",
    "\n",
    "    print(f\"Random processed image of class: {random_class}, at position {random_indice}.\")\n",
    "    return random_image, random_class\n",
    "\n",
    "def get_image_binary(image, top_pixels):\n",
    "    flattened_image = [pixel for row in image for pixel in row]\n",
    "\n",
    "    random_image_binary = [[format(index, '08b') for index in sublist] for sublist in top_pixels]\n",
    "    random_image_binary_filtered = []\n",
    "\n",
    "    for class_indices, class_binary in zip(top_pixels, random_image_binary):\n",
    "        temp = []\n",
    "        for indice, binary in zip(class_indices, class_binary):\n",
    "            binary = binary + str(int(flattened_image[indice]))\n",
    "            temp.append(binary)\n",
    "        random_image_binary_filtered.append(temp)\n",
    "\n",
    "    return random_image_binary_filtered\n",
    "\n",
    "def get_grover_operators(binary_states):\n",
    "    grover_oracles = []\n",
    "\n",
    "    for states in binary_states:\n",
    "        oracle = grover_oracle(states)\n",
    "\n",
    "        grover_op = GroverOperator(oracle)\n",
    "        grover_oracles.append(grover_op)\n",
    "\n",
    "    return grover_oracles\n",
    "\n",
    "def get_image_quasi_distributions():\n",
    "    random_image, random_image_class = get_random_image()\n",
    "    random_image_binary = get_image_binary(random_image, top_pixels)\n",
    "\n",
    "    random_image_quasi_distributions = []\n",
    "\n",
    "    grover_operators = get_grover_operators(random_image_binary)\n",
    "\n",
    "    for grover_op in grover_operators:\n",
    "        optimal_num_iterations = math.floor(\n",
    "            math.pi / 4 * math.sqrt(2**oracle.num_qubits / 5)\n",
    "        )\n",
    "\n",
    "        qc = QuantumCircuit(grover_op.num_qubits)\n",
    "        qc.h(range(grover_op.num_qubits))\n",
    "        qc.compose(grover_op.power(8), inplace=True)\n",
    "        qc.measure_all()\n",
    "\n",
    "        sampler = Sampler()\n",
    "\n",
    "        result = sampler.run(qc).result()\n",
    "        quasi_dists = result.quasi_dists\n",
    "\n",
    "        random_image_quasi_distributions.append(quasi_dists)\n",
    "\n",
    "    return random_image_quasi_distributions, random_image_class\n",
    "\n",
    "def get_jensen_shannon_divergence(quasi_distributions, new_image_quasi_distributions):\n",
    "    js_divergences = []\n",
    "\n",
    "    for i in range(10):\n",
    "        first = quasi_distributions[i][0]\n",
    "        second = new_image_quasi_distributions[i][0]\n",
    "\n",
    "        keys = sorted(first.keys())\n",
    "        p = np.array([first[key] for key in keys])\n",
    "        q = np.array([second[key] for key in keys])\n",
    "\n",
    "        js_divergence = jensenshannon(p, q, base=2)\n",
    "\n",
    "        js_divergences.append(js_divergence)\n",
    "\n",
    "    return js_divergences\n",
    "\n",
    "def get_prediction(js_distributions):\n",
    "    return js_distributions.index(min(js_distributions))"
   ]
  },
  {
   "cell_type": "code",
   "execution_count": 48,
   "metadata": {},
   "outputs": [
    {
     "name": "stdout",
     "output_type": "stream",
     "text": [
      "Random processed image of class: 9, at position 2617.\n",
      "Predicted class: 7, actuall class: 9\n",
      "Random processed image of class: 6, at position 4172.\n",
      "Predicted class: 6, actuall class: 6\n",
      "Prediction accuracy: 0.5\n",
      "Random processed image of class: 0, at position 4265.\n",
      "Predicted class: 0, actuall class: 0\n",
      "Prediction accuracy: 0.6666666666666666\n",
      "Random processed image of class: 8, at position 3517.\n",
      "Predicted class: 4, actuall class: 8\n",
      "Prediction accuracy: 0.5\n",
      "Random processed image of class: 8, at position 1389.\n",
      "Predicted class: 1, actuall class: 8\n",
      "Prediction accuracy: 0.4\n",
      "Random processed image of class: 0, at position 4253.\n",
      "Predicted class: 2, actuall class: 0\n",
      "Prediction accuracy: 0.3333333333333333\n",
      "Random processed image of class: 0, at position 1866.\n",
      "Predicted class: 0, actuall class: 0\n",
      "Prediction accuracy: 0.42857142857142855\n",
      "Random processed image of class: 3, at position 4177.\n",
      "Predicted class: 3, actuall class: 3\n",
      "Prediction accuracy: 0.5\n",
      "Random processed image of class: 4, at position 1526.\n",
      "Predicted class: 4, actuall class: 4\n",
      "Prediction accuracy: 0.5555555555555556\n",
      "Random processed image of class: 8, at position 4955.\n",
      "Predicted class: 9, actuall class: 8\n",
      "Prediction accuracy: 0.5\n"
     ]
    }
   ],
   "source": [
    "correct_predictions = 0\n",
    "\n",
    "for i in range(10):\n",
    "    distributions, correct_class = get_image_quasi_distributions()\n",
    "    js = get_jensen_shannon_divergence(quasi_distributions, distributions)\n",
    "\n",
    "    predicted_class = get_prediction(js)\n",
    "\n",
    "    print(f\"Predicted class: {predicted_class}, actuall class: {correct_class}\")\n",
    "\n",
    "    if predicted_class == correct_class:\n",
    "        correct_predictions = correct_predictions + 1\n",
    "\n",
    "    if correct_predictions != 0 and i != 0:\n",
    "        print(f\"Prediction accuracy: {correct_predictions / (i + 1)}\")\n",
    "    "
   ]
  }
 ],
 "metadata": {
  "kernelspec": {
   "display_name": "tf_jupyter",
   "language": "python",
   "name": "python3"
  },
  "language_info": {
   "codemirror_mode": {
    "name": "ipython",
    "version": 3
   },
   "file_extension": ".py",
   "mimetype": "text/x-python",
   "name": "python",
   "nbconvert_exporter": "python",
   "pygments_lexer": "ipython3",
   "version": "3.9.16"
  }
 },
 "nbformat": 4,
 "nbformat_minor": 2
}
